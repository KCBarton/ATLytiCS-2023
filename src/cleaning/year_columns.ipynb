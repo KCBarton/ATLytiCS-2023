{
 "cells": [
  {
   "cell_type": "code",
   "execution_count": 1,
   "metadata": {},
   "outputs": [
    {
     "name": "stderr",
     "output_type": "stream",
     "text": [
      "c:\\Users\\VKV3SNO\\github_repos\\data_science\\southern-data-science-conference-2023\\.venv\\Lib\\site-packages\\openpyxl\\worksheet\\header_footer.py:48: UserWarning: Cannot parse header or footer so it will be ignored\n",
      "  warn(\"\"\"Cannot parse header or footer so it will be ignored\"\"\")\n",
      "c:\\Users\\VKV3SNO\\github_repos\\data_science\\southern-data-science-conference-2023\\.venv\\Lib\\site-packages\\openpyxl\\worksheet\\header_footer.py:48: UserWarning: Cannot parse header or footer so it will be ignored\n",
      "  warn(\"\"\"Cannot parse header or footer so it will be ignored\"\"\")\n",
      "c:\\Users\\VKV3SNO\\github_repos\\data_science\\southern-data-science-conference-2023\\.venv\\Lib\\site-packages\\openpyxl\\worksheet\\header_footer.py:48: UserWarning: Cannot parse header or footer so it will be ignored\n",
      "  warn(\"\"\"Cannot parse header or footer so it will be ignored\"\"\")\n",
      "c:\\Users\\VKV3SNO\\github_repos\\data_science\\southern-data-science-conference-2023\\.venv\\Lib\\site-packages\\openpyxl\\worksheet\\header_footer.py:48: UserWarning: Cannot parse header or footer so it will be ignored\n",
      "  warn(\"\"\"Cannot parse header or footer so it will be ignored\"\"\")\n",
      "c:\\Users\\VKV3SNO\\github_repos\\data_science\\southern-data-science-conference-2023\\.venv\\Lib\\site-packages\\openpyxl\\worksheet\\header_footer.py:48: UserWarning: Cannot parse header or footer so it will be ignored\n",
      "  warn(\"\"\"Cannot parse header or footer so it will be ignored\"\"\")\n",
      "c:\\Users\\VKV3SNO\\github_repos\\data_science\\southern-data-science-conference-2023\\.venv\\Lib\\site-packages\\openpyxl\\worksheet\\header_footer.py:48: UserWarning: Cannot parse header or footer so it will be ignored\n",
      "  warn(\"\"\"Cannot parse header or footer so it will be ignored\"\"\")\n",
      "c:\\Users\\VKV3SNO\\github_repos\\data_science\\southern-data-science-conference-2023\\.venv\\Lib\\site-packages\\openpyxl\\worksheet\\header_footer.py:48: UserWarning: Cannot parse header or footer so it will be ignored\n",
      "  warn(\"\"\"Cannot parse header or footer so it will be ignored\"\"\")\n"
     ]
    }
   ],
   "source": [
    "import os\n",
    "import pandas as pd\n",
    "import re\n",
    "\n",
    "# folder_path = '..\\dbt\\seeds\\excel_cleaned\\pit'\n",
    "folder_path = '..\\dbt\\seeds\\excel_cleaned\\hic'\n",
    "\n",
    "# Create an empty dictionary to store column names and years\n",
    "column_years = {}\n",
    "\n",
    "# Loop through all Excel files in the folder\n",
    "for file_name in os.listdir(folder_path):\n",
    "    if file_name.endswith('.xlsx'):\n",
    "        file_path = os.path.join(folder_path, file_name)\n",
    "        \n",
    "        # Read the Excel file into a Pandas dataframe\n",
    "        df = pd.read_excel(file_path)\n",
    "        \n",
    "        # Get the year from the file name\n",
    "        #year = file_name.split('_')[0][-4:]\n",
    "        year = re.findall(r'\\d{4}', file_name)\n",
    "        \n",
    "        # Loop through all columns in the dataframe\n",
    "        for column_name in df.columns:\n",
    "            # If the column name is not already in the dictionary, add it with the current year\n",
    "            if column_name not in column_years:\n",
    "                column_years[column_name] = [year]\n",
    "            # If the column name is already in the dictionary, append the current year to the list\n",
    "            else:\n",
    "                column_years[column_name].append(year)\n",
    "\n",
    "# Print the dictionary of column names and years\n",
    "# for column_name, years in column_years.items():\n",
    "#   print(f\"{column_name}: {years}\")\n",
    "  \n",
    "with open('output.txt', 'w') as f:\n",
    "  for column_name, years in column_years.items():\n",
    "    f.write(f\"{column_name.upper()}: {years}\\n\")"
   ]
  },
  {
   "cell_type": "code",
   "execution_count": null,
   "metadata": {},
   "outputs": [],
   "source": []
  }
 ],
 "metadata": {
  "kernelspec": {
   "display_name": ".venv",
   "language": "python",
   "name": "python3"
  },
  "language_info": {
   "codemirror_mode": {
    "name": "ipython",
    "version": 3
   },
   "file_extension": ".py",
   "mimetype": "text/x-python",
   "name": "python",
   "nbconvert_exporter": "python",
   "pygments_lexer": "ipython3",
   "version": "3.11.1"
  },
  "orig_nbformat": 4
 },
 "nbformat": 4,
 "nbformat_minor": 2
}
