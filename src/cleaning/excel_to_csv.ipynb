{
 "cells": [
  {
   "cell_type": "markdown",
   "metadata": {},
   "source": [
    "## This notebook turns excel files in a folder to csv files"
   ]
  },
  {
   "cell_type": "code",
   "execution_count": 10,
   "metadata": {},
   "outputs": [
    {
     "name": "stderr",
     "output_type": "stream",
     "text": [
      "c:\\Users\\VKV3SNO\\github_repos\\data_science\\southern-data-science-conference-2023\\.venv\\Lib\\site-packages\\openpyxl\\worksheet\\header_footer.py:48: UserWarning: Cannot parse header or footer so it will be ignored\n",
      "  warn(\"\"\"Cannot parse header or footer so it will be ignored\"\"\")\n",
      "c:\\Users\\VKV3SNO\\github_repos\\data_science\\southern-data-science-conference-2023\\.venv\\Lib\\site-packages\\openpyxl\\worksheet\\header_footer.py:48: UserWarning: Cannot parse header or footer so it will be ignored\n",
      "  warn(\"\"\"Cannot parse header or footer so it will be ignored\"\"\")\n",
      "c:\\Users\\VKV3SNO\\github_repos\\data_science\\southern-data-science-conference-2023\\.venv\\Lib\\site-packages\\openpyxl\\worksheet\\header_footer.py:48: UserWarning: Cannot parse header or footer so it will be ignored\n",
      "  warn(\"\"\"Cannot parse header or footer so it will be ignored\"\"\")\n",
      "c:\\Users\\VKV3SNO\\github_repos\\data_science\\southern-data-science-conference-2023\\.venv\\Lib\\site-packages\\openpyxl\\worksheet\\header_footer.py:48: UserWarning: Cannot parse header or footer so it will be ignored\n",
      "  warn(\"\"\"Cannot parse header or footer so it will be ignored\"\"\")\n",
      "c:\\Users\\VKV3SNO\\github_repos\\data_science\\southern-data-science-conference-2023\\.venv\\Lib\\site-packages\\openpyxl\\worksheet\\header_footer.py:48: UserWarning: Cannot parse header or footer so it will be ignored\n",
      "  warn(\"\"\"Cannot parse header or footer so it will be ignored\"\"\")\n",
      "c:\\Users\\VKV3SNO\\github_repos\\data_science\\southern-data-science-conference-2023\\.venv\\Lib\\site-packages\\openpyxl\\worksheet\\header_footer.py:48: UserWarning: Cannot parse header or footer so it will be ignored\n",
      "  warn(\"\"\"Cannot parse header or footer so it will be ignored\"\"\")\n",
      "c:\\Users\\VKV3SNO\\github_repos\\data_science\\southern-data-science-conference-2023\\.venv\\Lib\\site-packages\\openpyxl\\worksheet\\header_footer.py:48: UserWarning: Cannot parse header or footer so it will be ignored\n",
      "  warn(\"\"\"Cannot parse header or footer so it will be ignored\"\"\")\n"
     ]
    }
   ],
   "source": [
    "# import os\n",
    "# import pandas as pd\n",
    "\n",
    "# input_folder = '..\\dbt\\seeds\\excel_cleaned'  # Replace with the path to your folder of Excel files\n",
    "# output_folder = '..\\dbt\\seeds\\csv'  # Replace with the desired output folder\n",
    "\n",
    "# # Get a list of Excel files in the input folder\n",
    "# excel_files = [f for f in os.listdir(input_folder) if f.endswith('.xlsx')]\n",
    "\n",
    "# # For every excel file in the folder\n",
    "# for excel_file in excel_files:\n",
    "#     excel_path = os.path.join(input_folder, excel_file)\n",
    "#     csv_file = excel_file.replace('.xlsx', '.csv')\n",
    "#     csv_path = os.path.join(output_folder, csv_file)\n",
    "\n",
    "#     # Read Excel file and save as CSV\n",
    "#     df = pd.read_excel(excel_path)\n",
    "#     df.to_csv(csv_path, index=False)\n"
   ]
  }
 ],
 "metadata": {
  "kernelspec": {
   "display_name": ".venv",
   "language": "python",
   "name": "python3"
  },
  "language_info": {
   "codemirror_mode": {
    "name": "ipython",
    "version": 3
   },
   "file_extension": ".py",
   "mimetype": "text/x-python",
   "name": "python",
   "nbconvert_exporter": "python",
   "pygments_lexer": "ipython3",
   "version": "3.11.1"
  },
  "orig_nbformat": 4
 },
 "nbformat": 4,
 "nbformat_minor": 2
}
